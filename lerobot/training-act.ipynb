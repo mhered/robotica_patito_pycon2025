{
  "cells": [
    {
      "cell_type": "markdown",
      "metadata": {
        "id": "view-in-github",
        "colab_type": "text"
      },
      "source": [
        "<a href=\"https://colab.research.google.com/github/mhered/robotica_patito_pycon2025/blob/main/lerobot/training-act.ipynb\" target=\"_parent\"><img src=\"https://colab.research.google.com/assets/colab-badge.svg\" alt=\"Open In Colab\"/></a>"
      ]
    },
    {
      "cell_type": "markdown",
      "metadata": {
        "id": "NQUk3Y0WwYZ4"
      },
      "source": [
        "# 🤗 x 🦾: Training ACT with LeRobot Notebook\n",
        "\n",
        "Welcome to the **LeRobot ACT training notebook**! This notebook provides a ready-to-run setup for training imitation learning policies using the [🤗 LeRobot](https://github.com/huggingface/lerobot) library.\n",
        "\n",
        "In this example, we train an `ACT` policy using a dataset hosted on the [Hugging Face Hub](https://huggingface.co/), and optionally track training metrics with [Weights & Biases (wandb)](https://wandb.ai/).\n",
        "\n",
        "## ⚙️ Requirements\n",
        "- A Hugging Face dataset repo ID containing your training data (`--dataset.repo_id=YOUR_USERNAME/YOUR_DATASET`)\n",
        "- Optional: A [wandb](https://wandb.ai/) account if you want to enable training visualization\n",
        "- Recommended: GPU runtime (e.g., NVIDIA A100) for faster training\n",
        "\n",
        "## ⏱️ Expected Training Time\n",
        "Training with the `ACT` policy for 100,000 steps typically takes **about 1.5 hours on an NVIDIA A100** GPU. On less powerful GPUs or CPUs, training may take significantly longer.\n",
        "\n",
        "## Example Output\n",
        "Model checkpoints, logs, and training plots will be saved to the specified `--output_dir`. If `wandb` is enabled, progress will also be visualized in your wandb project dashboard.\n"
      ]
    },
    {
      "cell_type": "markdown",
      "metadata": {
        "id": "MOJyX0CnwA5m"
      },
      "source": [
        "## Install conda\n",
        "This cell uses `condacolab` to bootstrap a full Conda environment inside Google Colab.\n"
      ]
    },
    {
      "cell_type": "code",
      "execution_count": 1,
      "metadata": {
        "colab": {
          "base_uri": "https://localhost:8080/"
        },
        "id": "QlKjL1X5t_zM",
        "outputId": "ad0b7043-cd5b-47b6-c3f9-3cdd28ac180f"
      },
      "outputs": [
        {
          "output_type": "stream",
          "name": "stdout",
          "text": [
            "⏬ Downloading https://github.com/jaimergp/miniforge/releases/download/24.11.2-1_colab/Miniforge3-colab-24.11.2-1_colab-Linux-x86_64.sh...\n",
            "📦 Installing...\n",
            "📌 Adjusting configuration...\n",
            "🩹 Patching environment...\n",
            "⏲ Done in 0:00:09\n",
            "🔁 Restarting kernel...\n"
          ]
        }
      ],
      "source": [
        "!pip install -q condacolab\n",
        "import condacolab\n",
        "condacolab.install()"
      ]
    },
    {
      "cell_type": "markdown",
      "metadata": {
        "id": "DxCc3CARwUjN"
      },
      "source": [
        "## Install LeRobot\n",
        "This cell clones the `lerobot` repository from Hugging Face, installs FFmpeg (version 7.1.1), and installs the package in editable mode.\n"
      ]
    },
    {
      "cell_type": "code",
      "execution_count": 3,
      "metadata": {
        "colab": {
          "base_uri": "https://localhost:8080/"
        },
        "id": "dgLu7QT5tUik",
        "outputId": "50509511-742b-4896-86b6-3f0851cf4352"
      },
      "outputs": [
        {
          "output_type": "stream",
          "name": "stdout",
          "text": [
            "fatal: destination path 'lerobot' already exists and is not an empty directory.\n",
            "Channels:\n",
            " - conda-forge\n",
            "Platform: linux-64\n",
            "Collecting package metadata (repodata.json): - \b\b\\ \b\b| \b\b/ \b\b- \b\b\\ \b\b| \b\b/ \b\b- \b\b\\ \b\bdone\n",
            "Solving environment: / \b\b- \b\b\\ \b\b| \b\b/ \b\b- \b\b\\ \b\bdone\n",
            "\n",
            "\n",
            "==> WARNING: A newer version of conda exists. <==\n",
            "    current version: 24.11.3\n",
            "    latest version: 25.9.0\n",
            "\n",
            "Please update conda by running\n",
            "\n",
            "    $ conda update -n base -c conda-forge conda\n",
            "\n",
            "\n",
            "\n",
            "# All requested packages already installed.\n",
            "\n",
            "Obtaining file:///content/lerobot\n",
            "  Installing build dependencies ... \u001b[?25l\u001b[?25hdone\n",
            "  Checking if build backend supports build_editable ... \u001b[?25l\u001b[?25hdone\n",
            "  Getting requirements to build editable ... \u001b[?25l\u001b[?25hdone\n",
            "  Preparing editable metadata (pyproject.toml) ... \u001b[?25l\u001b[?25hdone\n",
            "Requirement already satisfied: datasets>=4.0.0 in /usr/local/lib/python3.11/site-packages (from lerobot==0.3.4) (4.1.1)\n",
            "Requirement already satisfied: diffusers>=0.27.2 in /usr/local/lib/python3.11/site-packages (from lerobot==0.3.4) (0.35.1)\n",
            "Requirement already satisfied: huggingface-hub>=0.34.2 in /usr/local/lib/python3.11/site-packages (from huggingface-hub[cli,hf-transfer]>=0.34.2->lerobot==0.3.4) (0.35.3)\n",
            "Requirement already satisfied: cmake>=3.29.0.1 in /usr/local/lib/python3.11/site-packages (from lerobot==0.3.4) (4.1.0)\n",
            "Requirement already satisfied: einops>=0.8.0 in /usr/local/lib/python3.11/site-packages (from lerobot==0.3.4) (0.8.1)\n",
            "Requirement already satisfied: opencv-python-headless>=4.9.0 in /usr/local/lib/python3.11/site-packages (from lerobot==0.3.4) (4.12.0.88)\n",
            "Requirement already satisfied: av>=14.2.0 in /usr/local/lib/python3.11/site-packages (from lerobot==0.3.4) (15.1.0)\n",
            "Requirement already satisfied: jsonlines>=4.0.0 in /usr/local/lib/python3.11/site-packages (from lerobot==0.3.4) (4.0.0)\n",
            "Requirement already satisfied: packaging>=24.2 in /usr/local/lib/python3.11/site-packages (from lerobot==0.3.4) (24.2)\n",
            "Requirement already satisfied: pynput>=1.7.7 in /usr/local/lib/python3.11/site-packages (from lerobot==0.3.4) (1.8.1)\n",
            "Requirement already satisfied: pyserial>=3.5 in /usr/local/lib/python3.11/site-packages (from lerobot==0.3.4) (3.5)\n",
            "Requirement already satisfied: wandb>=0.20.0 in /usr/local/lib/python3.11/site-packages (from lerobot==0.3.4) (0.22.1)\n",
            "Requirement already satisfied: torch<2.8.0,>=2.2.1 in /usr/local/lib/python3.11/site-packages (from lerobot==0.3.4) (2.7.1)\n",
            "Requirement already satisfied: torchcodec<0.6.0,>=0.2.1 in /usr/local/lib/python3.11/site-packages (from lerobot==0.3.4) (0.5)\n",
            "Requirement already satisfied: torchvision<0.23.0,>=0.21.0 in /usr/local/lib/python3.11/site-packages (from lerobot==0.3.4) (0.22.1)\n",
            "Requirement already satisfied: draccus==0.10.0 in /usr/local/lib/python3.11/site-packages (from lerobot==0.3.4) (0.10.0)\n",
            "Requirement already satisfied: gymnasium<1.0.0,>=0.29.1 in /usr/local/lib/python3.11/site-packages (from lerobot==0.3.4) (0.29.1)\n",
            "Requirement already satisfied: rerun-sdk<0.23.0,>=0.21.0 in /usr/local/lib/python3.11/site-packages (from lerobot==0.3.4) (0.22.1)\n",
            "Requirement already satisfied: deepdiff<9.0.0,>=7.0.1 in /usr/local/lib/python3.11/site-packages (from lerobot==0.3.4) (8.6.1)\n",
            "Requirement already satisfied: imageio<3.0.0,>=2.34.0 in /usr/local/lib/python3.11/site-packages (from imageio[ffmpeg]<3.0.0,>=2.34.0->lerobot==0.3.4) (2.37.0)\n",
            "Requirement already satisfied: termcolor<4.0.0,>=2.4.0 in /usr/local/lib/python3.11/site-packages (from lerobot==0.3.4) (3.1.0)\n",
            "Requirement already satisfied: mergedeep~=1.3 in /usr/local/lib/python3.11/site-packages (from draccus==0.10.0->lerobot==0.3.4) (1.3.4)\n",
            "Requirement already satisfied: pyyaml~=6.0 in /usr/local/lib/python3.11/site-packages (from draccus==0.10.0->lerobot==0.3.4) (6.0.3)\n",
            "Requirement already satisfied: pyyaml-include~=1.4 in /usr/local/lib/python3.11/site-packages (from draccus==0.10.0->lerobot==0.3.4) (1.4.1)\n",
            "Requirement already satisfied: toml~=0.10 in /usr/local/lib/python3.11/site-packages (from draccus==0.10.0->lerobot==0.3.4) (0.10.2)\n",
            "Requirement already satisfied: typing-inspect~=0.9.0 in /usr/local/lib/python3.11/site-packages (from draccus==0.10.0->lerobot==0.3.4) (0.9.0)\n",
            "Requirement already satisfied: filelock in /usr/local/lib/python3.11/site-packages (from datasets>=4.0.0->lerobot==0.3.4) (3.19.1)\n",
            "Requirement already satisfied: numpy>=1.17 in /usr/local/lib/python3.11/site-packages (from datasets>=4.0.0->lerobot==0.3.4) (2.2.6)\n",
            "Requirement already satisfied: pyarrow>=21.0.0 in /usr/local/lib/python3.11/site-packages (from datasets>=4.0.0->lerobot==0.3.4) (21.0.0)\n",
            "Requirement already satisfied: dill<0.4.1,>=0.3.0 in /usr/local/lib/python3.11/site-packages (from datasets>=4.0.0->lerobot==0.3.4) (0.4.0)\n",
            "Requirement already satisfied: pandas in /usr/local/lib/python3.11/site-packages (from datasets>=4.0.0->lerobot==0.3.4) (2.3.3)\n",
            "Requirement already satisfied: requests>=2.32.2 in /usr/local/lib/python3.11/site-packages (from datasets>=4.0.0->lerobot==0.3.4) (2.32.3)\n",
            "Requirement already satisfied: tqdm>=4.66.3 in /usr/local/lib/python3.11/site-packages (from datasets>=4.0.0->lerobot==0.3.4) (4.67.1)\n",
            "Requirement already satisfied: xxhash in /usr/local/lib/python3.11/site-packages (from datasets>=4.0.0->lerobot==0.3.4) (3.6.0)\n",
            "Requirement already satisfied: multiprocess<0.70.17 in /usr/local/lib/python3.11/site-packages (from datasets>=4.0.0->lerobot==0.3.4) (0.70.16)\n",
            "Requirement already satisfied: fsspec<=2025.9.0,>=2023.1.0 in /usr/local/lib/python3.11/site-packages (from fsspec[http]<=2025.9.0,>=2023.1.0->datasets>=4.0.0->lerobot==0.3.4) (2025.9.0)\n",
            "Requirement already satisfied: orderly-set<6,>=5.4.1 in /usr/local/lib/python3.11/site-packages (from deepdiff<9.0.0,>=7.0.1->lerobot==0.3.4) (5.5.0)\n",
            "Requirement already satisfied: importlib_metadata in /usr/local/lib/python3.11/site-packages (from diffusers>=0.27.2->lerobot==0.3.4) (8.7.0)\n",
            "Requirement already satisfied: regex!=2019.12.17 in /usr/local/lib/python3.11/site-packages (from diffusers>=0.27.2->lerobot==0.3.4) (2025.9.18)\n",
            "Requirement already satisfied: safetensors>=0.3.1 in /usr/local/lib/python3.11/site-packages (from diffusers>=0.27.2->lerobot==0.3.4) (0.6.2)\n",
            "Requirement already satisfied: Pillow in /usr/local/lib/python3.11/site-packages (from diffusers>=0.27.2->lerobot==0.3.4) (11.3.0)\n",
            "Requirement already satisfied: cloudpickle>=1.2.0 in /usr/local/lib/python3.11/site-packages (from gymnasium<1.0.0,>=0.29.1->lerobot==0.3.4) (3.1.1)\n",
            "Requirement already satisfied: typing-extensions>=4.3.0 in /usr/local/lib/python3.11/site-packages (from gymnasium<1.0.0,>=0.29.1->lerobot==0.3.4) (4.15.0)\n",
            "Requirement already satisfied: farama-notifications>=0.0.1 in /usr/local/lib/python3.11/site-packages (from gymnasium<1.0.0,>=0.29.1->lerobot==0.3.4) (0.0.4)\n",
            "Requirement already satisfied: hf-xet<2.0.0,>=1.1.3 in /usr/local/lib/python3.11/site-packages (from huggingface-hub>=0.34.2->huggingface-hub[cli,hf-transfer]>=0.34.2->lerobot==0.3.4) (1.1.10)\n",
            "Requirement already satisfied: InquirerPy==0.3.4 in /usr/local/lib/python3.11/site-packages (from huggingface-hub[cli,hf-transfer]>=0.34.2->lerobot==0.3.4) (0.3.4)\n",
            "Requirement already satisfied: hf-transfer>=0.1.4 in /usr/local/lib/python3.11/site-packages (from huggingface-hub[cli,hf-transfer]>=0.34.2->lerobot==0.3.4) (0.1.9)\n",
            "Requirement already satisfied: pfzy<0.4.0,>=0.3.1 in /usr/local/lib/python3.11/site-packages (from InquirerPy==0.3.4->huggingface-hub[cli,hf-transfer]>=0.34.2->lerobot==0.3.4) (0.3.4)\n",
            "Requirement already satisfied: prompt-toolkit<4.0.0,>=3.0.1 in /usr/local/lib/python3.11/site-packages (from InquirerPy==0.3.4->huggingface-hub[cli,hf-transfer]>=0.34.2->lerobot==0.3.4) (3.0.52)\n",
            "Requirement already satisfied: imageio-ffmpeg in /usr/local/lib/python3.11/site-packages (from imageio[ffmpeg]<3.0.0,>=2.34.0->lerobot==0.3.4) (0.6.0)\n",
            "Requirement already satisfied: psutil in /usr/local/lib/python3.11/site-packages (from imageio[ffmpeg]<3.0.0,>=2.34.0->lerobot==0.3.4) (7.1.0)\n",
            "Requirement already satisfied: attrs>=19.2.0 in /usr/local/lib/python3.11/site-packages (from jsonlines>=4.0.0->lerobot==0.3.4) (25.3.0)\n",
            "Requirement already satisfied: six in /usr/local/lib/python3.11/site-packages (from pynput>=1.7.7->lerobot==0.3.4) (1.17.0)\n",
            "Requirement already satisfied: evdev>=1.3 in /usr/local/lib/python3.11/site-packages (from pynput>=1.7.7->lerobot==0.3.4) (1.9.2)\n",
            "Requirement already satisfied: python-xlib>=0.17 in /usr/local/lib/python3.11/site-packages (from pynput>=1.7.7->lerobot==0.3.4) (0.33)\n",
            "Requirement already satisfied: sympy>=1.13.3 in /usr/local/lib/python3.11/site-packages (from torch<2.8.0,>=2.2.1->lerobot==0.3.4) (1.14.0)\n",
            "Requirement already satisfied: networkx in /usr/local/lib/python3.11/site-packages (from torch<2.8.0,>=2.2.1->lerobot==0.3.4) (3.5)\n",
            "Requirement already satisfied: jinja2 in /usr/local/lib/python3.11/site-packages (from torch<2.8.0,>=2.2.1->lerobot==0.3.4) (3.1.6)\n",
            "Requirement already satisfied: nvidia-cuda-nvrtc-cu12==12.6.77 in /usr/local/lib/python3.11/site-packages (from torch<2.8.0,>=2.2.1->lerobot==0.3.4) (12.6.77)\n",
            "Requirement already satisfied: nvidia-cuda-runtime-cu12==12.6.77 in /usr/local/lib/python3.11/site-packages (from torch<2.8.0,>=2.2.1->lerobot==0.3.4) (12.6.77)\n",
            "Requirement already satisfied: nvidia-cuda-cupti-cu12==12.6.80 in /usr/local/lib/python3.11/site-packages (from torch<2.8.0,>=2.2.1->lerobot==0.3.4) (12.6.80)\n",
            "Requirement already satisfied: nvidia-cudnn-cu12==9.5.1.17 in /usr/local/lib/python3.11/site-packages (from torch<2.8.0,>=2.2.1->lerobot==0.3.4) (9.5.1.17)\n",
            "Requirement already satisfied: nvidia-cublas-cu12==12.6.4.1 in /usr/local/lib/python3.11/site-packages (from torch<2.8.0,>=2.2.1->lerobot==0.3.4) (12.6.4.1)\n",
            "Requirement already satisfied: nvidia-cufft-cu12==11.3.0.4 in /usr/local/lib/python3.11/site-packages (from torch<2.8.0,>=2.2.1->lerobot==0.3.4) (11.3.0.4)\n",
            "Requirement already satisfied: nvidia-curand-cu12==10.3.7.77 in /usr/local/lib/python3.11/site-packages (from torch<2.8.0,>=2.2.1->lerobot==0.3.4) (10.3.7.77)\n",
            "Requirement already satisfied: nvidia-cusolver-cu12==11.7.1.2 in /usr/local/lib/python3.11/site-packages (from torch<2.8.0,>=2.2.1->lerobot==0.3.4) (11.7.1.2)\n",
            "Requirement already satisfied: nvidia-cusparse-cu12==12.5.4.2 in /usr/local/lib/python3.11/site-packages (from torch<2.8.0,>=2.2.1->lerobot==0.3.4) (12.5.4.2)\n",
            "Requirement already satisfied: nvidia-cusparselt-cu12==0.6.3 in /usr/local/lib/python3.11/site-packages (from torch<2.8.0,>=2.2.1->lerobot==0.3.4) (0.6.3)\n",
            "Requirement already satisfied: nvidia-nccl-cu12==2.26.2 in /usr/local/lib/python3.11/site-packages (from torch<2.8.0,>=2.2.1->lerobot==0.3.4) (2.26.2)\n",
            "Requirement already satisfied: nvidia-nvtx-cu12==12.6.77 in /usr/local/lib/python3.11/site-packages (from torch<2.8.0,>=2.2.1->lerobot==0.3.4) (12.6.77)\n",
            "Requirement already satisfied: nvidia-nvjitlink-cu12==12.6.85 in /usr/local/lib/python3.11/site-packages (from torch<2.8.0,>=2.2.1->lerobot==0.3.4) (12.6.85)\n",
            "Requirement already satisfied: nvidia-cufile-cu12==1.11.1.6 in /usr/local/lib/python3.11/site-packages (from torch<2.8.0,>=2.2.1->lerobot==0.3.4) (1.11.1.6)\n",
            "Requirement already satisfied: triton==3.3.1 in /usr/local/lib/python3.11/site-packages (from torch<2.8.0,>=2.2.1->lerobot==0.3.4) (3.3.1)\n",
            "Requirement already satisfied: setuptools>=40.8.0 in /usr/local/lib/python3.11/site-packages (from triton==3.3.1->torch<2.8.0,>=2.2.1->lerobot==0.3.4) (65.6.3)\n",
            "Requirement already satisfied: click>=8.0.1 in /usr/local/lib/python3.11/site-packages (from wandb>=0.20.0->lerobot==0.3.4) (8.3.0)\n",
            "Requirement already satisfied: gitpython!=3.1.29,>=1.0.0 in /usr/local/lib/python3.11/site-packages (from wandb>=0.20.0->lerobot==0.3.4) (3.1.45)\n",
            "Requirement already satisfied: platformdirs in /usr/local/lib/python3.11/site-packages (from wandb>=0.20.0->lerobot==0.3.4) (4.3.6)\n",
            "Requirement already satisfied: protobuf!=4.21.0,!=5.28.0,<7,>=3.19.0 in /usr/local/lib/python3.11/site-packages (from wandb>=0.20.0->lerobot==0.3.4) (6.32.1)\n",
            "Requirement already satisfied: pydantic<3 in /usr/local/lib/python3.11/site-packages (from wandb>=0.20.0->lerobot==0.3.4) (2.11.9)\n",
            "Requirement already satisfied: sentry-sdk>=2.0.0 in /usr/local/lib/python3.11/site-packages (from wandb>=0.20.0->lerobot==0.3.4) (2.39.0)\n",
            "Requirement already satisfied: aiohttp!=4.0.0a0,!=4.0.0a1 in /usr/local/lib/python3.11/site-packages (from fsspec[http]<=2025.9.0,>=2023.1.0->datasets>=4.0.0->lerobot==0.3.4) (3.12.15)\n",
            "Requirement already satisfied: gitdb<5,>=4.0.1 in /usr/local/lib/python3.11/site-packages (from gitpython!=3.1.29,>=1.0.0->wandb>=0.20.0->lerobot==0.3.4) (4.0.12)\n",
            "Requirement already satisfied: annotated-types>=0.6.0 in /usr/local/lib/python3.11/site-packages (from pydantic<3->wandb>=0.20.0->lerobot==0.3.4) (0.7.0)\n",
            "Requirement already satisfied: pydantic-core==2.33.2 in /usr/local/lib/python3.11/site-packages (from pydantic<3->wandb>=0.20.0->lerobot==0.3.4) (2.33.2)\n",
            "Requirement already satisfied: typing-inspection>=0.4.0 in /usr/local/lib/python3.11/site-packages (from pydantic<3->wandb>=0.20.0->lerobot==0.3.4) (0.4.2)\n",
            "Requirement already satisfied: charset_normalizer<4,>=2 in /usr/local/lib/python3.11/site-packages (from requests>=2.32.2->datasets>=4.0.0->lerobot==0.3.4) (3.4.1)\n",
            "Requirement already satisfied: idna<4,>=2.5 in /usr/local/lib/python3.11/site-packages (from requests>=2.32.2->datasets>=4.0.0->lerobot==0.3.4) (3.10)\n",
            "Requirement already satisfied: urllib3<3,>=1.21.1 in /usr/local/lib/python3.11/site-packages (from requests>=2.32.2->datasets>=4.0.0->lerobot==0.3.4) (2.3.0)\n",
            "Requirement already satisfied: certifi>=2017.4.17 in /usr/local/lib/python3.11/site-packages (from requests>=2.32.2->datasets>=4.0.0->lerobot==0.3.4) (2025.8.3)\n",
            "Requirement already satisfied: mpmath<1.4,>=1.1.0 in /usr/local/lib/python3.11/site-packages (from sympy>=1.13.3->torch<2.8.0,>=2.2.1->lerobot==0.3.4) (1.3.0)\n",
            "Requirement already satisfied: mypy-extensions>=0.3.0 in /usr/local/lib/python3.11/site-packages (from typing-inspect~=0.9.0->draccus==0.10.0->lerobot==0.3.4) (1.1.0)\n",
            "Requirement already satisfied: zipp>=3.20 in /usr/local/lib/python3.11/site-packages (from importlib_metadata->diffusers>=0.27.2->lerobot==0.3.4) (3.23.0)\n",
            "Requirement already satisfied: MarkupSafe>=2.0 in /usr/local/lib/python3.11/site-packages (from jinja2->torch<2.8.0,>=2.2.1->lerobot==0.3.4) (3.0.3)\n",
            "Requirement already satisfied: python-dateutil>=2.8.2 in /usr/local/lib/python3.11/site-packages (from pandas->datasets>=4.0.0->lerobot==0.3.4) (2.9.0.post0)\n",
            "Requirement already satisfied: pytz>=2020.1 in /usr/local/lib/python3.11/site-packages (from pandas->datasets>=4.0.0->lerobot==0.3.4) (2025.2)\n",
            "Requirement already satisfied: tzdata>=2022.7 in /usr/local/lib/python3.11/site-packages (from pandas->datasets>=4.0.0->lerobot==0.3.4) (2025.2)\n",
            "Requirement already satisfied: aiohappyeyeballs>=2.5.0 in /usr/local/lib/python3.11/site-packages (from aiohttp!=4.0.0a0,!=4.0.0a1->fsspec[http]<=2025.9.0,>=2023.1.0->datasets>=4.0.0->lerobot==0.3.4) (2.6.1)\n",
            "Requirement already satisfied: aiosignal>=1.4.0 in /usr/local/lib/python3.11/site-packages (from aiohttp!=4.0.0a0,!=4.0.0a1->fsspec[http]<=2025.9.0,>=2023.1.0->datasets>=4.0.0->lerobot==0.3.4) (1.4.0)\n",
            "Requirement already satisfied: frozenlist>=1.1.1 in /usr/local/lib/python3.11/site-packages (from aiohttp!=4.0.0a0,!=4.0.0a1->fsspec[http]<=2025.9.0,>=2023.1.0->datasets>=4.0.0->lerobot==0.3.4) (1.7.0)\n",
            "Requirement already satisfied: multidict<7.0,>=4.5 in /usr/local/lib/python3.11/site-packages (from aiohttp!=4.0.0a0,!=4.0.0a1->fsspec[http]<=2025.9.0,>=2023.1.0->datasets>=4.0.0->lerobot==0.3.4) (6.6.4)\n",
            "Requirement already satisfied: propcache>=0.2.0 in /usr/local/lib/python3.11/site-packages (from aiohttp!=4.0.0a0,!=4.0.0a1->fsspec[http]<=2025.9.0,>=2023.1.0->datasets>=4.0.0->lerobot==0.3.4) (0.3.2)\n",
            "Requirement already satisfied: yarl<2.0,>=1.17.0 in /usr/local/lib/python3.11/site-packages (from aiohttp!=4.0.0a0,!=4.0.0a1->fsspec[http]<=2025.9.0,>=2023.1.0->datasets>=4.0.0->lerobot==0.3.4) (1.20.1)\n",
            "Requirement already satisfied: smmap<6,>=3.0.1 in /usr/local/lib/python3.11/site-packages (from gitdb<5,>=4.0.1->gitpython!=3.1.29,>=1.0.0->wandb>=0.20.0->lerobot==0.3.4) (5.0.2)\n",
            "Requirement already satisfied: wcwidth in /usr/local/lib/python3.11/site-packages (from prompt-toolkit<4.0.0,>=3.0.1->InquirerPy==0.3.4->huggingface-hub[cli,hf-transfer]>=0.34.2->lerobot==0.3.4) (0.2.14)\n",
            "Building wheels for collected packages: lerobot\n",
            "  Building editable for lerobot (pyproject.toml) ... \u001b[?25l\u001b[?25hdone\n",
            "  Created wheel for lerobot: filename=lerobot-0.3.4-0.editable-py3-none-any.whl size=15308 sha256=a835316b156dd681b1eae7020bc9e1cbe439ad1f7b24003329c1b45ddecbe089\n",
            "  Stored in directory: /tmp/pip-ephem-wheel-cache-f1lda20h/wheels/15/0d/02/b9c6ff1c78574dee99101ad231194b3425eb4cd784ce8c8338\n",
            "Successfully built lerobot\n",
            "Installing collected packages: lerobot\n",
            "  Attempting uninstall: lerobot\n",
            "    Found existing installation: lerobot 0.3.4\n",
            "    Uninstalling lerobot-0.3.4:\n",
            "      Successfully uninstalled lerobot-0.3.4\n",
            "Successfully installed lerobot-0.3.4\n"
          ]
        }
      ],
      "source": [
        "!git clone https://github.com/huggingface/lerobot.git\n",
        "!conda install ffmpeg=7.1.1 -c conda-forge\n",
        "!cd lerobot && pip install -e ."
      ]
    },
    {
      "cell_type": "markdown",
      "metadata": {
        "id": "Q8Sn2wG4wldo"
      },
      "source": [
        "## Weights & Biases login\n",
        "This cell logs you into Weights & Biases (wandb) to enable experiment tracking and logging."
      ]
    },
    {
      "cell_type": "code",
      "execution_count": 4,
      "metadata": {
        "colab": {
          "base_uri": "https://localhost:8080/"
        },
        "id": "PolVM_movEvp",
        "outputId": "e73c5c6d-883d-419c-871d-b0340af11f57"
      },
      "outputs": [
        {
          "output_type": "stream",
          "name": "stdout",
          "text": [
            "\u001b[34m\u001b[1mwandb\u001b[0m: Logging into wandb.ai. (Learn how to deploy a W&B server locally: https://wandb.me/wandb-server)\n",
            "\u001b[34m\u001b[1mwandb\u001b[0m: You can find your API key in your browser here: https://wandb.ai/authorize?ref=models\n",
            "\u001b[34m\u001b[1mwandb\u001b[0m: Paste an API key from your profile and hit enter, or press ctrl+c to quit: \n",
            "\u001b[34m\u001b[1mwandb\u001b[0m: No netrc file found, creating one.\n",
            "\u001b[34m\u001b[1mwandb\u001b[0m: Appending key for api.wandb.ai to your netrc file: /root/.netrc\n",
            "\u001b[34m\u001b[1mwandb\u001b[0m: Currently logged in as: \u001b[33mspam-mhered\u001b[0m (\u001b[33mspam-mhered-duckietown\u001b[0m) to \u001b[32mhttps://api.wandb.ai\u001b[0m. Use \u001b[1m`wandb login --relogin`\u001b[0m to force relogin\n"
          ]
        }
      ],
      "source": [
        "!wandb login"
      ]
    },
    {
      "cell_type": "markdown",
      "metadata": {
        "id": "IkzTo4mNwxaC"
      },
      "source": [
        "## Start training ACT with LeRobot\n",
        "\n",
        "This cell runs the `train.py` script from the `lerobot` library to train a robot control policy.  \n",
        "\n",
        "Make sure to adjust the following arguments to your setup:\n",
        "\n",
        "1. `--dataset.repo_id=mhered/recording-test`:  \n",
        "   Replace this with the Hugging Face Hub repo ID where your dataset is stored, e.g., `pepijn223/il_gym0`.\n",
        "\n",
        "2. `--policy.type=act`:  \n",
        "   Specifies the policy configuration to use. `act` refers to [configuration_act.py](../lerobot/common/policies/act/configuration_act.py), which will automatically adapt to your dataset’s setup (e.g., number of motors and cameras).\n",
        "\n",
        "3. `--output_dir=outputs/train/...`:  \n",
        "   Directory where training logs and model checkpoints will be saved.\n",
        "\n",
        "4. `--job_name=...`:  \n",
        "   A name for this training job, used for logging and Weights & Biases.\n",
        "\n",
        "5. `--policy.device=cuda`:  \n",
        "   Use `cuda` if training on an NVIDIA GPU. Use `mps` for Apple Silicon, or `cpu` if no GPU is available.\n",
        "\n",
        "6. `--wandb.enable=true`:  \n",
        "   Enables Weights & Biases for visualizing training progress. You must be logged in via `wandb login` before running this."
      ]
    },
    {
      "cell_type": "code",
      "execution_count": null,
      "metadata": {
        "colab": {
          "base_uri": "https://localhost:8080/"
        },
        "id": "Ufss6US6xbpi",
        "outputId": "026ff586-dab0-4cca-b8f4-bac579cf9d86"
      },
      "outputs": [
        {
          "output_type": "stream",
          "name": "stdout",
          "text": [
            "INFO 2025-10-03 17:42:56 ot_train.py:148 {'batch_size': 8,\n",
            " 'dataset': {'episodes': None,\n",
            "             'image_transforms': {'enable': False,\n",
            "                                  'max_num_transforms': 3,\n",
            "                                  'random_order': False,\n",
            "                                  'tfs': {'brightness': {'kwargs': {'brightness': [0.8,\n",
            "                                                                                   1.2]},\n",
            "                                                         'type': 'ColorJitter',\n",
            "                                                         'weight': 1.0},\n",
            "                                          'contrast': {'kwargs': {'contrast': [0.8,\n",
            "                                                                               1.2]},\n",
            "                                                       'type': 'ColorJitter',\n",
            "                                                       'weight': 1.0},\n",
            "                                          'hue': {'kwargs': {'hue': [-0.05,\n",
            "                                                                     0.05]},\n",
            "                                                  'type': 'ColorJitter',\n",
            "                                                  'weight': 1.0},\n",
            "                                          'saturation': {'kwargs': {'saturation': [0.5,\n",
            "                                                                                   1.5]},\n",
            "                                                         'type': 'ColorJitter',\n",
            "                                                         'weight': 1.0},\n",
            "                                          'sharpness': {'kwargs': {'sharpness': [0.5,\n",
            "                                                                                 1.5]},\n",
            "                                                        'type': 'SharpnessJitter',\n",
            "                                                        'weight': 1.0}}},\n",
            "             'repo_id': 'mhered/recording-test',\n",
            "             'revision': None,\n",
            "             'root': None,\n",
            "             'streaming': False,\n",
            "             'use_imagenet_stats': True,\n",
            "             'video_backend': 'torchcodec'},\n",
            " 'env': None,\n",
            " 'eval': {'batch_size': 50, 'n_episodes': 50, 'use_async_envs': False},\n",
            " 'eval_freq': 20000,\n",
            " 'job_name': 'act_so100_pato_test',\n",
            " 'log_freq': 200,\n",
            " 'num_workers': 4,\n",
            " 'optimizer': {'betas': [0.9, 0.999],\n",
            "               'eps': 1e-08,\n",
            "               'grad_clip_norm': 10.0,\n",
            "               'lr': 1e-05,\n",
            "               'type': 'adamw',\n",
            "               'weight_decay': 0.0001},\n",
            " 'output_dir': 'outputs/train/act_so100_pato_test1',\n",
            " 'policy': {'chunk_size': 100,\n",
            "            'device': 'cuda',\n",
            "            'dim_feedforward': 3200,\n",
            "            'dim_model': 512,\n",
            "            'dropout': 0.1,\n",
            "            'feedforward_activation': 'relu',\n",
            "            'input_features': {},\n",
            "            'kl_weight': 10.0,\n",
            "            'latent_dim': 32,\n",
            "            'license': None,\n",
            "            'n_action_steps': 100,\n",
            "            'n_decoder_layers': 1,\n",
            "            'n_encoder_layers': 4,\n",
            "            'n_heads': 8,\n",
            "            'n_obs_steps': 1,\n",
            "            'n_vae_encoder_layers': 4,\n",
            "            'normalization_mapping': {'ACTION': <NormalizationMode.MEAN_STD: 'MEAN_STD'>,\n",
            "                                      'STATE': <NormalizationMode.MEAN_STD: 'MEAN_STD'>,\n",
            "                                      'VISUAL': <NormalizationMode.MEAN_STD: 'MEAN_STD'>},\n",
            "            'optimizer_lr': 1e-05,\n",
            "            'optimizer_lr_backbone': 1e-05,\n",
            "            'optimizer_weight_decay': 0.0001,\n",
            "            'output_features': {},\n",
            "            'pre_norm': False,\n",
            "            'pretrained_backbone_weights': 'ResNet18_Weights.IMAGENET1K_V1',\n",
            "            'pretrained_path': None,\n",
            "            'private': None,\n",
            "            'push_to_hub': True,\n",
            "            'replace_final_stride_with_dilation': False,\n",
            "            'repo_id': 'mhered/my_act',\n",
            "            'tags': None,\n",
            "            'temporal_ensemble_coeff': None,\n",
            "            'type': 'act',\n",
            "            'use_amp': False,\n",
            "            'use_vae': True,\n",
            "            'vision_backbone': 'resnet18'},\n",
            " 'resume': False,\n",
            " 'save_checkpoint': True,\n",
            " 'save_freq': 20000,\n",
            " 'scheduler': None,\n",
            " 'seed': 1000,\n",
            " 'steps': 100000,\n",
            " 'use_policy_training_preset': True,\n",
            " 'wandb': {'disable_artifact': False,\n",
            "           'enable': True,\n",
            "           'entity': None,\n",
            "           'mode': None,\n",
            "           'notes': None,\n",
            "           'project': 'lerobot',\n",
            "           'run_id': None}}\n",
            "\u001b[1m\u001b[34mLogs will be synced with wandb.\u001b[0m\n",
            "INFO 2025-10-03 17:42:58 db_utils.py:103 Track this run --> \u001b[1m\u001b[33mhttps://wandb.ai/spam-mhered-duckietown/lerobot/runs/6ijc76vf\u001b[0m\n",
            "INFO 2025-10-03 17:42:58 ot_train.py:164 Creating dataset\n",
            "Fetching 4 files:   0% 0/4 [00:00<?, ?it/s]\n",
            "meta/tasks.parquet:   0% 0.00/2.11k [00:00<?, ?B/s]\u001b[A\n",
            "\n",
            "meta/episodes/chunk-000/file-000.parquet:   0% 0.00/88.1k [00:00<?, ?B/s]\u001b[A\u001b[A\n",
            "meta/tasks.parquet: 100% 2.11k/2.11k [00:01<00:00, 1.55kB/s]\n",
            "\n",
            "\n",
            "meta/episodes/chunk-000/file-000.parquet: 100% 88.1k/88.1k [00:01<00:00, 65.5kB/s]\n",
            "Fetching 4 files: 100% 4/4 [00:01<00:00,  2.16it/s]\n",
            "Generating train split: 61 examples [00:00, 2401.99 examples/s]\n",
            "Fetching 9 files:   0% 0/9 [00:00<?, ?it/s]\n",
            "data/chunk-000/file-000.parquet:   0% 0.00/1.11M [00:00<?, ?B/s]\u001b[A\n",
            "\n",
            "videos/observation.images.head_cam/chunk(…):   0% 0.00/265M [00:00<?, ?B/s]\u001b[A\u001b[A\n",
            "\n",
            "\n",
            "videos/observation.images.top_cam/chunk-(…):   0% 0.00/144M [00:00<?, ?B/s]\u001b[A\u001b[A\u001b[A\n",
            "\n",
            "\n",
            "\n",
            "README.md: 3.72kB [00:00, 5.63MB/s]\n",
            "\n",
            "\n",
            "\n",
            "\n",
            ".gitattributes: 2.46kB [00:00, 4.74MB/s]\n",
            "Fetching 9 files:  11% 1/9 [00:00<00:06,  1.33it/s]\n",
            "data/chunk-000/file-000.parquet: 100% 1.11M/1.11M [00:02<00:00, 520kB/s] \n",
            "Fetching 9 files:  33% 3/9 [00:02<00:05,  1.13it/s]\n",
            "\n",
            "\n",
            "videos/observation.images.top_cam/chunk-(…):   0% 13.8k/144M [00:02<8:15:30, 4.83kB/s]\u001b[A\u001b[A\u001b[A\n",
            "\n",
            "\n",
            "videos/observation.images.top_cam/chunk-(…):   2% 2.29M/144M [00:03<02:17, 1.03MB/s]  \u001b[A\u001b[A\u001b[A\n",
            "\n",
            "videos/observation.images.head_cam/chunk(…):   2% 5.06M/265M [00:03<02:40, 1.62MB/s]\u001b[A\u001b[A\n",
            "\n",
            "\n",
            "videos/observation.images.top_cam/chunk-(…):   8% 10.9M/144M [00:03<00:24, 5.34MB/s]\u001b[A\u001b[A\u001b[A\n",
            "\n",
            "\n",
            "videos/observation.images.top_cam/chunk-(…):  18% 25.2M/144M [00:03<00:08, 14.5MB/s]\u001b[A\u001b[A\u001b[A\n",
            "\n",
            "videos/observation.images.head_cam/chunk(…):   7% 17.4M/265M [00:03<00:42, 5.85MB/s]\u001b[A\u001b[A\n",
            "\n",
            "\n",
            "videos/observation.images.top_cam/chunk-(…):  25% 35.4M/144M [00:03<00:05, 20.5MB/s]\u001b[A\u001b[A\u001b[A\n",
            "\n",
            "\n",
            "videos/observation.images.top_cam/chunk-(…):  36% 51.3M/144M [00:03<00:02, 34.5MB/s]\u001b[A\u001b[A\u001b[A\n",
            "\n",
            "videos/observation.images.head_cam/chunk(…):  26% 67.8M/265M [00:05<00:11, 16.9MB/s]\u001b[A\u001b[A\n",
            "\n",
            "videos/observation.images.head_cam/chunk(…):  34% 90.5M/265M [00:05<00:07, 24.6MB/s]\u001b[A\u001b[A\n",
            "\n",
            "\n",
            "videos/observation.images.top_cam/chunk-(…):  58% 82.6M/144M [00:05<00:02, 21.6MB/s]\u001b[A\u001b[A\u001b[A\n",
            "\n",
            "videos/observation.images.head_cam/chunk(…):  44% 118M/265M [00:07<00:08, 17.2MB/s] \u001b[A\u001b[A\n",
            "\n",
            "\n",
            "videos/observation.images.top_cam/chunk-(…):  72% 103M/144M [00:07<00:02, 14.9MB/s] \u001b[A\u001b[A\u001b[A\n",
            "\n",
            "\n",
            "videos/observation.images.top_cam/chunk-(…): 100% 144M/144M [00:08<00:00, 28.5MB/s]\u001b[A\u001b[A\u001b[A\n",
            "\n",
            "videos/observation.images.top_cam/chunk-(…): 100% 144M/144M [00:08<00:00, 17.4MB/s]\n",
            "\n",
            "\n",
            "videos/observation.images.head_cam/chunk(…):  87% 231M/265M [00:08<00:00, 48.7MB/s]\u001b[A\u001b[A\n",
            "\n",
            "videos/observation.images.head_cam/chunk(…): 100% 265M/265M [00:08<00:00, 29.8MB/s]\n",
            "Fetching 9 files: 100% 9/9 [00:09<00:00,  1.04s/it]\n",
            "Generating train split: 38777 examples [00:00, 1438805.08 examples/s]\n",
            "INFO 2025-10-03 17:43:11 ot_train.py:175 Creating policy\n",
            "Downloading: \"https://download.pytorch.org/models/resnet18-f37072fd.pth\" to /root/.cache/torch/hub/checkpoints/resnet18-f37072fd.pth\n",
            "100% 44.7M/44.7M [00:00<00:00, 72.7MB/s]\n",
            "INFO 2025-10-03 17:43:13 ot_train.py:212 Creating optimizer and scheduler\n",
            "INFO 2025-10-03 17:43:13 ot_train.py:224 \u001b[1m\u001b[33mOutput dir:\u001b[0m outputs/train/act_so100_pato_test1\n",
            "INFO 2025-10-03 17:43:13 ot_train.py:227 cfg.steps=100000 (100K)\n",
            "INFO 2025-10-03 17:43:13 ot_train.py:228 dataset.num_frames=38777 (39K)\n",
            "INFO 2025-10-03 17:43:13 ot_train.py:229 dataset.num_episodes=61\n",
            "INFO 2025-10-03 17:43:13 ot_train.py:230 num_learnable_params=51597190 (52M)\n",
            "INFO 2025-10-03 17:43:13 ot_train.py:231 num_total_params=51597190 (52M)\n",
            "/usr/local/lib/python3.11/site-packages/torch/utils/data/dataloader.py:626: UserWarning: This DataLoader will create 4 worker processes in total. Our suggested max number of worker in current system is 2, which is smaller than what this DataLoader is going to create. Please be aware that excessive worker creation might get DataLoader running slow or even freeze, lower the worker number to avoid potential slowness/freeze if necessary.\n",
            "  warnings.warn(\n",
            "INFO 2025-10-03 17:43:13 ot_train.py:272 Start offline training on a fixed dataset\n",
            "INFO 2025-10-03 17:45:06 ot_train.py:299 step:200 smpl:2K ep:3 epch:0.04 loss:7.077 grdn:157.944 lr:1.0e-05 updt_s:0.545 data_s:0.019\n",
            "INFO 2025-10-03 17:46:57 ot_train.py:299 step:400 smpl:3K ep:5 epch:0.08 loss:3.082 grdn:87.903 lr:1.0e-05 updt_s:0.554 data_s:0.002\n",
            "INFO 2025-10-03 17:48:49 ot_train.py:299 step:600 smpl:5K ep:8 epch:0.12 loss:2.573 grdn:75.338 lr:1.0e-05 updt_s:0.554 data_s:0.002\n",
            "INFO 2025-10-03 17:50:40 ot_train.py:299 step:800 smpl:6K ep:10 epch:0.17 loss:2.306 grdn:70.954 lr:1.0e-05 updt_s:0.556 data_s:0.002\n",
            "INFO 2025-10-03 17:52:32 ot_train.py:299 step:1K smpl:8K ep:13 epch:0.21 loss:2.077 grdn:66.527 lr:1.0e-05 updt_s:0.554 data_s:0.002\n",
            "INFO 2025-10-03 17:54:24 ot_train.py:299 step:1K smpl:10K ep:15 epch:0.25 loss:1.874 grdn:61.795 lr:1.0e-05 updt_s:0.556 data_s:0.002\n",
            "INFO 2025-10-03 17:56:15 ot_train.py:299 step:1K smpl:11K ep:18 epch:0.29 loss:1.743 grdn:60.374 lr:1.0e-05 updt_s:0.554 data_s:0.002\n",
            "INFO 2025-10-03 17:58:06 ot_train.py:299 step:2K smpl:13K ep:20 epch:0.33 loss:1.586 grdn:57.471 lr:1.0e-05 updt_s:0.554 data_s:0.002\n",
            "INFO 2025-10-03 17:59:58 ot_train.py:299 step:2K smpl:14K ep:23 epch:0.37 loss:1.448 grdn:54.273 lr:1.0e-05 updt_s:0.554 data_s:0.002\n",
            "INFO 2025-10-03 18:01:49 ot_train.py:299 step:2K smpl:16K ep:25 epch:0.41 loss:1.327 grdn:52.682 lr:1.0e-05 updt_s:0.556 data_s:0.002\n",
            "INFO 2025-10-03 18:03:41 ot_train.py:299 step:2K smpl:18K ep:28 epch:0.45 loss:1.208 grdn:49.297 lr:1.0e-05 updt_s:0.556 data_s:0.002\n",
            "INFO 2025-10-03 18:05:33 ot_train.py:299 step:2K smpl:19K ep:30 epch:0.50 loss:1.102 grdn:47.897 lr:1.0e-05 updt_s:0.557 data_s:0.002\n",
            "INFO 2025-10-03 18:07:25 ot_train.py:299 step:3K smpl:21K ep:33 epch:0.54 loss:1.012 grdn:45.565 lr:1.0e-05 updt_s:0.556 data_s:0.002\n",
            "INFO 2025-10-03 18:09:16 ot_train.py:299 step:3K smpl:22K ep:35 epch:0.58 loss:0.929 grdn:42.932 lr:1.0e-05 updt_s:0.555 data_s:0.002\n",
            "INFO 2025-10-03 18:11:08 ot_train.py:299 step:3K smpl:24K ep:38 epch:0.62 loss:0.848 grdn:40.795 lr:1.0e-05 updt_s:0.554 data_s:0.002\n",
            "INFO 2025-10-03 18:12:59 ot_train.py:299 step:3K smpl:26K ep:40 epch:0.66 loss:0.782 grdn:39.125 lr:1.0e-05 updt_s:0.553 data_s:0.002\n",
            "INFO 2025-10-03 18:14:51 ot_train.py:299 step:3K smpl:27K ep:43 epch:0.70 loss:0.720 grdn:37.282 lr:1.0e-05 updt_s:0.558 data_s:0.002\n",
            "INFO 2025-10-03 18:16:42 ot_train.py:299 step:4K smpl:29K ep:45 epch:0.74 loss:0.677 grdn:35.960 lr:1.0e-05 updt_s:0.555 data_s:0.002\n",
            "INFO 2025-10-03 18:18:34 ot_train.py:299 step:4K smpl:30K ep:48 epch:0.78 loss:0.619 grdn:34.052 lr:1.0e-05 updt_s:0.554 data_s:0.002\n",
            "INFO 2025-10-03 18:20:25 ot_train.py:299 step:4K smpl:32K ep:50 epch:0.83 loss:0.576 grdn:32.297 lr:1.0e-05 updt_s:0.553 data_s:0.002\n",
            "INFO 2025-10-03 18:22:16 ot_train.py:299 step:4K smpl:34K ep:53 epch:0.87 loss:0.542 grdn:30.989 lr:1.0e-05 updt_s:0.553 data_s:0.002\n",
            "INFO 2025-10-03 18:24:08 ot_train.py:299 step:4K smpl:35K ep:55 epch:0.91 loss:0.521 grdn:30.384 lr:1.0e-05 updt_s:0.557 data_s:0.002\n",
            "INFO 2025-10-03 18:26:00 ot_train.py:299 step:5K smpl:37K ep:58 epch:0.95 loss:0.482 grdn:28.719 lr:1.0e-05 updt_s:0.556 data_s:0.002\n",
            "INFO 2025-10-03 18:27:51 ot_train.py:299 step:5K smpl:38K ep:60 epch:0.99 loss:0.458 grdn:27.924 lr:1.0e-05 updt_s:0.554 data_s:0.002\n",
            "INFO 2025-10-03 18:29:46 ot_train.py:299 step:5K smpl:40K ep:63 epch:1.03 loss:0.437 grdn:27.205 lr:1.0e-05 updt_s:0.564 data_s:0.010\n",
            "INFO 2025-10-03 18:31:37 ot_train.py:299 step:5K smpl:42K ep:65 epch:1.07 loss:0.413 grdn:26.135 lr:1.0e-05 updt_s:0.555 data_s:0.002\n",
            "INFO 2025-10-03 18:33:29 ot_train.py:299 step:5K smpl:43K ep:68 epch:1.11 loss:0.392 grdn:25.019 lr:1.0e-05 updt_s:0.557 data_s:0.002\n",
            "INFO 2025-10-03 18:35:21 ot_train.py:299 step:6K smpl:45K ep:70 epch:1.16 loss:0.381 grdn:25.358 lr:1.0e-05 updt_s:0.556 data_s:0.002\n",
            "INFO 2025-10-03 18:37:13 ot_train.py:299 step:6K smpl:46K ep:73 epch:1.20 loss:0.372 grdn:24.300 lr:1.0e-05 updt_s:0.555 data_s:0.002\n"
          ]
        }
      ],
      "source": [
        "!cd lerobot && lerobot-train \\\n",
        "  --dataset.repo_id=mhered/recording-test \\\n",
        "  --policy.type=act \\\n",
        "  --output_dir=outputs/train/act_so100_pato_test1 \\\n",
        "  --job_name=act_so100_pato_test \\\n",
        "  --policy.device=cuda \\\n",
        "  --wandb.enable=true \\\n",
        "  --policy.repo_id=mhered/my_act"
      ]
    },
    {
      "cell_type": "markdown",
      "metadata": {
        "id": "lVE-j_dBCdGF"
      },
      "source": [
        "## Login into Hugging Face Hub\n",
        "Now after training is done login into the Hugging Face hub and upload the last checkpoint"
      ]
    },
    {
      "cell_type": "code",
      "execution_count": null,
      "metadata": {
        "id": "8yu5khQGIHi6"
      },
      "outputs": [],
      "source": [
        "!huggingface-cli login"
      ]
    },
    {
      "cell_type": "code",
      "execution_count": null,
      "metadata": {
        "id": "zFMLGuVkH7UN"
      },
      "outputs": [],
      "source": [
        "!huggingface-cli upload ${HF_USER}/il_sim_test0 \\\n",
        "  /content/lerobot/outputs/train/il_sim_test0/checkpoints/last/pretrained_model"
      ]
    }
  ],
  "metadata": {
    "accelerator": "GPU",
    "colab": {
      "gpuType": "T4",
      "machine_shape": "hm",
      "provenance": [],
      "include_colab_link": true
    },
    "kernelspec": {
      "display_name": "Python 3",
      "name": "python3"
    },
    "language_info": {
      "name": "python"
    }
  },
  "nbformat": 4,
  "nbformat_minor": 0
}