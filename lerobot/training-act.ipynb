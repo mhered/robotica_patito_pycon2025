{
  "cells": [
    {
      "cell_type": "markdown",
      "metadata": {
        "id": "view-in-github",
        "colab_type": "text"
      },
      "source": [
        "<a href=\"https://colab.research.google.com/github/mhered/robotica_patito_pycon2025/blob/main/lerobot/training-act.ipynb\" target=\"_parent\"><img src=\"https://colab.research.google.com/assets/colab-badge.svg\" alt=\"Open In Colab\"/></a>"
      ]
    },
    {
      "cell_type": "markdown",
      "metadata": {
        "id": "NQUk3Y0WwYZ4"
      },
      "source": [
        "# 🤗 x 🦾: Training ACT with LeRobot Notebook\n",
        "\n",
        "Welcome to the **LeRobot ACT training notebook**! This notebook provides a ready-to-run setup for training imitation learning policies using the [🤗 LeRobot](https://github.com/huggingface/lerobot) library.\n",
        "\n",
        "In this example, we train an `ACT` policy using a dataset hosted on the [Hugging Face Hub](https://huggingface.co/), and optionally track training metrics with [Weights & Biases (wandb)](https://wandb.ai/).\n",
        "\n",
        "## ⚙️ Requirements\n",
        "- A Hugging Face dataset repo ID containing your training data (`--dataset.repo_id=YOUR_USERNAME/YOUR_DATASET`)\n",
        "- Optional: A [wandb](https://wandb.ai/) account if you want to enable training visualization\n",
        "- Recommended: GPU runtime (e.g., NVIDIA A100) for faster training\n",
        "\n",
        "## ⏱️ Expected Training Time\n",
        "Training with the `ACT` policy for 100,000 steps typically takes **about 1.5 hours on an NVIDIA A100** GPU. On less powerful GPUs or CPUs, training may take significantly longer.\n",
        "\n",
        "## Example Output\n",
        "Model checkpoints, logs, and training plots will be saved to the specified `--output_dir`. If `wandb` is enabled, progress will also be visualized in your wandb project dashboard.\n"
      ]
    },
    {
      "cell_type": "markdown",
      "metadata": {
        "id": "MOJyX0CnwA5m"
      },
      "source": [
        "## Install conda\n",
        "This cell uses `condacolab` to bootstrap a full Conda environment inside Google Colab.\n"
      ]
    },
    {
      "cell_type": "code",
      "execution_count": null,
      "metadata": {
        "id": "QlKjL1X5t_zM"
      },
      "outputs": [],
      "source": [
        "!pip install -q condacolab\n",
        "import condacolab\n",
        "condacolab.install()"
      ]
    },
    {
      "cell_type": "markdown",
      "metadata": {
        "id": "DxCc3CARwUjN"
      },
      "source": [
        "## Install LeRobot\n",
        "This cell clones the `lerobot` repository from Hugging Face, installs FFmpeg (version 7.1.1), and installs the package in editable mode.\n"
      ]
    },
    {
      "cell_type": "code",
      "execution_count": null,
      "metadata": {
        "id": "dgLu7QT5tUik"
      },
      "outputs": [],
      "source": [
        "!git clone https://github.com/huggingface/lerobot.git\n",
        "!conda install ffmpeg=7.1.1 -c conda-forge\n",
        "!cd lerobot && pip install -e ."
      ]
    },
    {
      "cell_type": "markdown",
      "metadata": {
        "id": "Q8Sn2wG4wldo"
      },
      "source": [
        "## Weights & Biases login\n",
        "This cell logs you into Weights & Biases (wandb) to enable experiment tracking and logging."
      ]
    },
    {
      "cell_type": "code",
      "execution_count": null,
      "metadata": {
        "id": "PolVM_movEvp"
      },
      "outputs": [],
      "source": [
        "!wandb login"
      ]
    },
    {
      "cell_type": "markdown",
      "metadata": {
        "id": "IkzTo4mNwxaC"
      },
      "source": [
        "## Start training ACT with LeRobot\n",
        "\n",
        "This cell runs the `train.py` script from the `lerobot` library to train a robot control policy.  \n",
        "\n",
        "Make sure to adjust the following arguments to your setup:\n",
        "\n",
        "1. `--dataset.repo_id=mhered/recording-test`:  \n",
        "   Replace this with the Hugging Face Hub repo ID where your dataset is stored, e.g., `pepijn223/il_gym0`.\n",
        "\n",
        "2. `--policy.type=act`:  \n",
        "   Specifies the policy configuration to use. `act` refers to [configuration_act.py](../lerobot/common/policies/act/configuration_act.py), which will automatically adapt to your dataset’s setup (e.g., number of motors and cameras).\n",
        "\n",
        "3. `--output_dir=outputs/train/...`:  \n",
        "   Directory where training logs and model checkpoints will be saved.\n",
        "\n",
        "4. `--job_name=...`:  \n",
        "   A name for this training job, used for logging and Weights & Biases.\n",
        "\n",
        "5. `--policy.device=cuda`:  \n",
        "   Use `cuda` if training on an NVIDIA GPU. Use `mps` for Apple Silicon, or `cpu` if no GPU is available.\n",
        "\n",
        "6. `--wandb.enable=true`:  \n",
        "   Enables Weights & Biases for visualizing training progress. You must be logged in via `wandb login` before running this."
      ]
    },
    {
      "cell_type": "code",
      "source": [
        "# use this the first time only\n",
        "!cd lerobot && lerobot-train \\\n",
        "--dataset.repo_id=mhered/recording-test \\\n",
        "--policy.type=act \\\n",
        "--output_dir=outputs/train/act_so100_pato_test1 \\\n",
        "--job_name=act_so100_pato_test \\\n",
        "--policy.device=cuda \\\n",
        "--wandb.enable=true \\\n",
        "--policy.repo_id=mhered/my_act"
      ],
      "metadata": {
        "id": "yoOpwRsdgZ9R"
      },
      "execution_count": null,
      "outputs": []
    },
    {
      "cell_type": "code",
      "source": [
        "# use this when resuming from local training_state\n",
        "!cd lerobot && lerobot-train \\\n",
        " --policy.push_to_hub=false \\\n",
        " --config_path=outputs/train/act_so100_pato_test1/checkpoints/last/pretrained_model/train_config.json \\\n",
        " --resume=true \\\n",
        " --steps=60000 \\\n",
        " --save_checkpoint=true \\\n",
        " --save_freq=5000 \\\n",
        " --eval_freq=5000 \\\n",
        " --policy.device=cuda \\\n",
        " --num_workers=2 \\\n",
        " --wandb.enable=true \\\n",
        " --policy.use_amp=true"
      ],
      "metadata": {
        "id": "aDoChxCpgZsB"
      },
      "execution_count": null,
      "outputs": []
    },
    {
      "cell_type": "code",
      "execution_count": null,
      "metadata": {
        "id": "Ufss6US6xbpi"
      },
      "outputs": [],
      "source": [
        "# use this instead to warm start from saved Hub weights\n",
        "!cd lerobot && lerobot-train \\\n",
        "--dataset.repo_id=mhered/recording-test \\\n",
        "--policy.type=act \\\n",
        "--output_dir=outputs/train/act_so100_pato_test1 \\\n",
        "--job_name=act_so100_pato_test \\\n",
        "--policy.device=cuda \\\n",
        "--wandb.enable=true \\\n",
        "--policy.repo_id=mhered/my_act \\\n",
        "--policy.pretrained_path=mhered/my_act \\\n",
        "--steps=4000 \\\n",
        "--save_checkpoint=true \\\n",
        "--save_freq=2000 \\\n",
        "--eval_freq=2000 \\\n",
        "--policy.use_amp=true \\\n",
        "--num_workers=2 \\\n",
        "--policy.push_to_hub=false\n"
      ]
    },
    {
      "cell_type": "markdown",
      "metadata": {
        "id": "lVE-j_dBCdGF"
      },
      "source": [
        "## Login into Hugging Face Hub\n",
        "Now after training is done login into the Hugging Face hub and upload the last checkpoint"
      ]
    },
    {
      "cell_type": "code",
      "execution_count": null,
      "metadata": {
        "id": "8yu5khQGIHi6"
      },
      "outputs": [],
      "source": [
        "!git config --global credential.helper store\n",
        "!huggingface-cli login"
      ]
    },
    {
      "cell_type": "code",
      "source": [
        "#!apt-get -qq update && apt-get -qq install -y tree\n",
        "!tree /content/lerobot/outputs/train/act_so100_pato_test1/checkpoints\n",
        "\n"
      ],
      "metadata": {
        "id": "R5SryWSmhc-y"
      },
      "execution_count": null,
      "outputs": []
    },
    {
      "cell_type": "code",
      "execution_count": null,
      "metadata": {
        "id": "zFMLGuVkH7UN"
      },
      "outputs": [],
      "source": [
        "!huggingface-cli upload mhered/my_act \\\n",
        "/content/lerobot/outputs/train/act_so100_pato_test1/checkpoints/last/pretrained_model \\\n",
        "--repo-type model --commit-message \"Upload last checkpoint\""
      ]
    },
    {
      "cell_type": "code",
      "source": [
        "!python3 -c \"from google.colab import runtime; runtime.unassign()\""
      ],
      "metadata": {
        "id": "gzuICadoeB0P"
      },
      "execution_count": null,
      "outputs": []
    }
  ],
  "metadata": {
    "accelerator": "GPU",
    "colab": {
      "gpuType": "A100",
      "provenance": [],
      "include_colab_link": true
    },
    "kernelspec": {
      "display_name": "Python 3",
      "name": "python3"
    },
    "language_info": {
      "name": "python"
    }
  },
  "nbformat": 4,
  "nbformat_minor": 0
}